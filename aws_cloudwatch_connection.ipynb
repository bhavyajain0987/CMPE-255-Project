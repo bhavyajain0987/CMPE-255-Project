{
 "cells": [
  {
   "cell_type": "code",
   "execution_count": 5,
   "id": "c6f8271d-73e2-4439-9629-bc94c761db2a",
   "metadata": {},
   "outputs": [
    {
     "name": "stdout",
     "output_type": "stream",
     "text": [
      "{'nextSequenceToken': '49662280640771539065123775408644733161545247012081893522', 'ResponseMetadata': {'RequestId': '6a9898ff-260d-42a8-b88a-bbac502fb9bd', 'HTTPStatusCode': 200, 'HTTPHeaders': {'x-amzn-requestid': '6a9898ff-260d-42a8-b88a-bbac502fb9bd', 'content-type': 'application/x-amz-json-1.1', 'content-length': '80', 'date': 'Sat, 03 May 2025 20:19:32 GMT'}, 'RetryAttempts': 0}}\n",
      "✅ Message pushed to CloudWatch Logs.\n"
     ]
    }
   ],
   "source": [
    "import boto3\n",
    "import time\n",
    "\n",
    "# Replace these with your desired names\n",
    "log_group_name = 'BGLAlerts'\n",
    "log_stream_name = 'FrequentPatternWarnings'\n",
    "\n",
    "# Initialize CloudWatch Logs client\n",
    "client = boto3.client('logs', region_name='us-east-1')  # Change to your region\n",
    "\n",
    "# Step 1: Create log group (if not exists)\n",
    "try:\n",
    "    client.create_log_group(logGroupName=log_group_name)\n",
    "except client.exceptions.ResourceAlreadyExistsException:\n",
    "    pass\n",
    "\n",
    "# Step 2: Create log stream (if not exists)\n",
    "try:\n",
    "    client.create_log_stream(logGroupName=log_group_name, logStreamName=log_stream_name)\n",
    "except client.exceptions.ResourceAlreadyExistsException:\n",
    "    pass\n",
    "\n",
    "# Step 3: Send a test log event\n",
    "def send_log_event(message):\n",
    "    # Get the sequence token (required for subsequent events)\n",
    "    streams = client.describe_log_streams(logGroupName=log_group_name, logStreamNamePrefix=log_stream_name)\n",
    "    upload_sequence_token = streams['logStreams'][0].get('uploadSequenceToken')\n",
    "\n",
    "    kwargs = {\n",
    "        'logGroupName': log_group_name,\n",
    "        'logStreamName': log_stream_name,\n",
    "        'logEvents': [{\n",
    "            'timestamp': int(time.time() * 1000),\n",
    "            'message': message\n",
    "        }]\n",
    "    }\n",
    "\n",
    "    if upload_sequence_token:\n",
    "        kwargs['sequenceToken'] = upload_sequence_token\n",
    "\n",
    "    response = client.put_log_events(**kwargs)\n",
    "    print(response)\n",
    "    print(\"✅ Message pushed to CloudWatch Logs.\")\n",
    "\n",
    "# Send test message\n",
    "send_log_event(\"Test Alert: Pattern T1 → T2 detected with 85% failure likelihood.\")\n"
   ]
  },
  {
   "cell_type": "code",
   "execution_count": null,
   "id": "d6d78868-748a-4f2b-881c-26d1a9ce8abc",
   "metadata": {},
   "outputs": [],
   "source": []
  }
 ],
 "metadata": {
  "kernelspec": {
   "display_name": "Python 3 (ipykernel)",
   "language": "python",
   "name": "python3"
  },
  "language_info": {
   "codemirror_mode": {
    "name": "ipython",
    "version": 3
   },
   "file_extension": ".py",
   "mimetype": "text/x-python",
   "name": "python",
   "nbconvert_exporter": "python",
   "pygments_lexer": "ipython3",
   "version": "3.12.6"
  }
 },
 "nbformat": 4,
 "nbformat_minor": 5
}
